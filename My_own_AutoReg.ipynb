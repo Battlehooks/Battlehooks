{
  "nbformat": 4,
  "nbformat_minor": 0,
  "metadata": {
    "colab": {
      "name": "My own AutoReg",
      "provenance": [],
      "collapsed_sections": [],
      "authorship_tag": "ABX9TyNj7ZWhxx9wYahaVlkzVLhL",
      "include_colab_link": true
    },
    "kernelspec": {
      "name": "python3",
      "display_name": "Python 3"
    },
    "language_info": {
      "name": "python"
    },
    "widgets": {
      "application/vnd.jupyter.widget-state+json": {
        "7ec1efb8a6874a429790a2feb7b32eba": {
          "model_module": "@jupyter-widgets/controls",
          "model_name": "HBoxModel",
          "model_module_version": "1.5.0",
          "state": {
            "_view_name": "HBoxView",
            "_dom_classes": [],
            "_model_name": "HBoxModel",
            "_view_module": "@jupyter-widgets/controls",
            "_model_module_version": "1.5.0",
            "_view_count": null,
            "_view_module_version": "1.5.0",
            "box_style": "",
            "layout": "IPY_MODEL_4c4db2b1bbb642008ffe6158e3531380",
            "_model_module": "@jupyter-widgets/controls",
            "children": [
              "IPY_MODEL_67988d3910084fe3be9ffa3d33f11273",
              "IPY_MODEL_8da4c95c765e40faa1768bfb8fe3f6f6",
              "IPY_MODEL_f0e1127b72504b76ad4fbacc88e05731"
            ]
          }
        },
        "4c4db2b1bbb642008ffe6158e3531380": {
          "model_module": "@jupyter-widgets/base",
          "model_name": "LayoutModel",
          "model_module_version": "1.2.0",
          "state": {
            "_view_name": "LayoutView",
            "grid_template_rows": null,
            "right": null,
            "justify_content": null,
            "_view_module": "@jupyter-widgets/base",
            "overflow": null,
            "_model_module_version": "1.2.0",
            "_view_count": null,
            "flex_flow": null,
            "width": null,
            "min_width": null,
            "border": null,
            "align_items": null,
            "bottom": null,
            "_model_module": "@jupyter-widgets/base",
            "top": null,
            "grid_column": null,
            "overflow_y": null,
            "overflow_x": null,
            "grid_auto_flow": null,
            "grid_area": null,
            "grid_template_columns": null,
            "flex": null,
            "_model_name": "LayoutModel",
            "justify_items": null,
            "grid_row": null,
            "max_height": null,
            "align_content": null,
            "visibility": null,
            "align_self": null,
            "height": null,
            "min_height": null,
            "padding": null,
            "grid_auto_rows": null,
            "grid_gap": null,
            "max_width": null,
            "order": null,
            "_view_module_version": "1.2.0",
            "grid_template_areas": null,
            "object_position": null,
            "object_fit": null,
            "grid_auto_columns": null,
            "margin": null,
            "display": null,
            "left": null
          }
        },
        "67988d3910084fe3be9ffa3d33f11273": {
          "model_module": "@jupyter-widgets/controls",
          "model_name": "HTMLModel",
          "model_module_version": "1.5.0",
          "state": {
            "_view_name": "HTMLView",
            "style": "IPY_MODEL_3fa2d9743a5648f3946ce858cc288e5c",
            "_dom_classes": [],
            "description": "",
            "_model_name": "HTMLModel",
            "placeholder": "​",
            "_view_module": "@jupyter-widgets/controls",
            "_model_module_version": "1.5.0",
            "value": " 95%",
            "_view_count": null,
            "_view_module_version": "1.5.0",
            "description_tooltip": null,
            "_model_module": "@jupyter-widgets/controls",
            "layout": "IPY_MODEL_064d59ee806c4bbea8aca31374f7990f"
          }
        },
        "8da4c95c765e40faa1768bfb8fe3f6f6": {
          "model_module": "@jupyter-widgets/controls",
          "model_name": "FloatProgressModel",
          "model_module_version": "1.5.0",
          "state": {
            "_view_name": "ProgressView",
            "style": "IPY_MODEL_3ae1290631c94f1f84f675bf0657f0f7",
            "_dom_classes": [],
            "description": "",
            "_model_name": "FloatProgressModel",
            "bar_style": "",
            "max": 792,
            "_view_module": "@jupyter-widgets/controls",
            "_model_module_version": "1.5.0",
            "value": 750,
            "_view_count": null,
            "_view_module_version": "1.5.0",
            "orientation": "horizontal",
            "min": 0,
            "description_tooltip": null,
            "_model_module": "@jupyter-widgets/controls",
            "layout": "IPY_MODEL_ef79d9000d8542bf9adf548bcd7b085a"
          }
        },
        "f0e1127b72504b76ad4fbacc88e05731": {
          "model_module": "@jupyter-widgets/controls",
          "model_name": "HTMLModel",
          "model_module_version": "1.5.0",
          "state": {
            "_view_name": "HTMLView",
            "style": "IPY_MODEL_9c343a4e28ec46628e32868942359410",
            "_dom_classes": [],
            "description": "",
            "_model_name": "HTMLModel",
            "placeholder": "​",
            "_view_module": "@jupyter-widgets/controls",
            "_model_module_version": "1.5.0",
            "value": " 750/792 [06:42&lt;00:19,  2.16it/s]",
            "_view_count": null,
            "_view_module_version": "1.5.0",
            "description_tooltip": null,
            "_model_module": "@jupyter-widgets/controls",
            "layout": "IPY_MODEL_87d95fb3909d4a6eb92089ed81428822"
          }
        },
        "3fa2d9743a5648f3946ce858cc288e5c": {
          "model_module": "@jupyter-widgets/controls",
          "model_name": "DescriptionStyleModel",
          "model_module_version": "1.5.0",
          "state": {
            "_view_name": "StyleView",
            "_model_name": "DescriptionStyleModel",
            "description_width": "",
            "_view_module": "@jupyter-widgets/base",
            "_model_module_version": "1.5.0",
            "_view_count": null,
            "_view_module_version": "1.2.0",
            "_model_module": "@jupyter-widgets/controls"
          }
        },
        "064d59ee806c4bbea8aca31374f7990f": {
          "model_module": "@jupyter-widgets/base",
          "model_name": "LayoutModel",
          "model_module_version": "1.2.0",
          "state": {
            "_view_name": "LayoutView",
            "grid_template_rows": null,
            "right": null,
            "justify_content": null,
            "_view_module": "@jupyter-widgets/base",
            "overflow": null,
            "_model_module_version": "1.2.0",
            "_view_count": null,
            "flex_flow": null,
            "width": null,
            "min_width": null,
            "border": null,
            "align_items": null,
            "bottom": null,
            "_model_module": "@jupyter-widgets/base",
            "top": null,
            "grid_column": null,
            "overflow_y": null,
            "overflow_x": null,
            "grid_auto_flow": null,
            "grid_area": null,
            "grid_template_columns": null,
            "flex": null,
            "_model_name": "LayoutModel",
            "justify_items": null,
            "grid_row": null,
            "max_height": null,
            "align_content": null,
            "visibility": null,
            "align_self": null,
            "height": null,
            "min_height": null,
            "padding": null,
            "grid_auto_rows": null,
            "grid_gap": null,
            "max_width": null,
            "order": null,
            "_view_module_version": "1.2.0",
            "grid_template_areas": null,
            "object_position": null,
            "object_fit": null,
            "grid_auto_columns": null,
            "margin": null,
            "display": null,
            "left": null
          }
        },
        "3ae1290631c94f1f84f675bf0657f0f7": {
          "model_module": "@jupyter-widgets/controls",
          "model_name": "ProgressStyleModel",
          "model_module_version": "1.5.0",
          "state": {
            "_view_name": "StyleView",
            "_model_name": "ProgressStyleModel",
            "description_width": "",
            "_view_module": "@jupyter-widgets/base",
            "_model_module_version": "1.5.0",
            "_view_count": null,
            "_view_module_version": "1.2.0",
            "bar_color": null,
            "_model_module": "@jupyter-widgets/controls"
          }
        },
        "ef79d9000d8542bf9adf548bcd7b085a": {
          "model_module": "@jupyter-widgets/base",
          "model_name": "LayoutModel",
          "model_module_version": "1.2.0",
          "state": {
            "_view_name": "LayoutView",
            "grid_template_rows": null,
            "right": null,
            "justify_content": null,
            "_view_module": "@jupyter-widgets/base",
            "overflow": null,
            "_model_module_version": "1.2.0",
            "_view_count": null,
            "flex_flow": null,
            "width": null,
            "min_width": null,
            "border": null,
            "align_items": null,
            "bottom": null,
            "_model_module": "@jupyter-widgets/base",
            "top": null,
            "grid_column": null,
            "overflow_y": null,
            "overflow_x": null,
            "grid_auto_flow": null,
            "grid_area": null,
            "grid_template_columns": null,
            "flex": null,
            "_model_name": "LayoutModel",
            "justify_items": null,
            "grid_row": null,
            "max_height": null,
            "align_content": null,
            "visibility": null,
            "align_self": null,
            "height": null,
            "min_height": null,
            "padding": null,
            "grid_auto_rows": null,
            "grid_gap": null,
            "max_width": null,
            "order": null,
            "_view_module_version": "1.2.0",
            "grid_template_areas": null,
            "object_position": null,
            "object_fit": null,
            "grid_auto_columns": null,
            "margin": null,
            "display": null,
            "left": null
          }
        },
        "9c343a4e28ec46628e32868942359410": {
          "model_module": "@jupyter-widgets/controls",
          "model_name": "DescriptionStyleModel",
          "model_module_version": "1.5.0",
          "state": {
            "_view_name": "StyleView",
            "_model_name": "DescriptionStyleModel",
            "description_width": "",
            "_view_module": "@jupyter-widgets/base",
            "_model_module_version": "1.5.0",
            "_view_count": null,
            "_view_module_version": "1.2.0",
            "_model_module": "@jupyter-widgets/controls"
          }
        },
        "87d95fb3909d4a6eb92089ed81428822": {
          "model_module": "@jupyter-widgets/base",
          "model_name": "LayoutModel",
          "model_module_version": "1.2.0",
          "state": {
            "_view_name": "LayoutView",
            "grid_template_rows": null,
            "right": null,
            "justify_content": null,
            "_view_module": "@jupyter-widgets/base",
            "overflow": null,
            "_model_module_version": "1.2.0",
            "_view_count": null,
            "flex_flow": null,
            "width": null,
            "min_width": null,
            "border": null,
            "align_items": null,
            "bottom": null,
            "_model_module": "@jupyter-widgets/base",
            "top": null,
            "grid_column": null,
            "overflow_y": null,
            "overflow_x": null,
            "grid_auto_flow": null,
            "grid_area": null,
            "grid_template_columns": null,
            "flex": null,
            "_model_name": "LayoutModel",
            "justify_items": null,
            "grid_row": null,
            "max_height": null,
            "align_content": null,
            "visibility": null,
            "align_self": null,
            "height": null,
            "min_height": null,
            "padding": null,
            "grid_auto_rows": null,
            "grid_gap": null,
            "max_width": null,
            "order": null,
            "_view_module_version": "1.2.0",
            "grid_template_areas": null,
            "object_position": null,
            "object_fit": null,
            "grid_auto_columns": null,
            "margin": null,
            "display": null,
            "left": null
          }
        }
      }
    }
  },
  "cells": [
    {
      "cell_type": "markdown",
      "metadata": {
        "id": "view-in-github",
        "colab_type": "text"
      },
      "source": [
        "<a href=\"https://colab.research.google.com/github/Battlehooks/Battlehooks/blob/main/My_own_AutoReg.ipynb\" target=\"_parent\"><img src=\"https://colab.research.google.com/assets/colab-badge.svg\" alt=\"Open In Colab\"/></a>"
      ]
    },
    {
      "cell_type": "code",
      "execution_count": 1,
      "metadata": {
        "id": "voqprytRyssG"
      },
      "outputs": [],
      "source": [
        "import numpy as np\n",
        "import pandas as pd\n",
        "from matplotlib import pyplot as plt\n",
        "plt.rcParams['figure.figsize'] = (15, 10)\n",
        "plt.style.use('seaborn-darkgrid')\n",
        "import seaborn as sns\n",
        "sns.set_style('darkgrid')"
      ]
    },
    {
      "cell_type": "code",
      "source": [
        "data = pd.read_csv('/content/data.csv',index_col = 'DateTime', parse_dates = ['DateTime'], infer_datetime_format = True)\n",
        "data = data.reindex(pd.date_range(data.index[0], data.index[-1]), method = 'pad').squeeze()\n",
        "data"
      ],
      "metadata": {
        "colab": {
          "base_uri": "https://localhost:8080/"
        },
        "id": "lETxWNGKy1Re",
        "outputId": "83706aff-2283-4a20-ca5c-e92c397596c6"
      },
      "execution_count": 2,
      "outputs": [
        {
          "output_type": "execute_result",
          "data": {
            "text/plain": [
              "2019-02-13    593000\n",
              "2019-02-14    593000\n",
              "2019-02-15    595000\n",
              "2019-02-16    595000\n",
              "2019-02-17    595000\n",
              "               ...  \n",
              "2022-02-05    883000\n",
              "2022-02-06    883000\n",
              "2022-02-07    883000\n",
              "2022-02-08    883000\n",
              "2022-02-09    877000\n",
              "Freq: D, Name: Harga Emas, Length: 1093, dtype: int64"
            ]
          },
          "metadata": {},
          "execution_count": 2
        }
      ]
    },
    {
      "cell_type": "code",
      "source": [
        "data.plot.line()"
      ],
      "metadata": {
        "colab": {
          "base_uri": "https://localhost:8080/",
          "height": 301
        },
        "id": "vEzs8E4qy3tT",
        "outputId": "446ea37d-a1c0-47d3-eb35-783b5e65fabe"
      },
      "execution_count": 3,
      "outputs": [
        {
          "output_type": "execute_result",
          "data": {
            "text/plain": [
              "<matplotlib.axes._subplots.AxesSubplot at 0x7fed8726b290>"
            ]
          },
          "metadata": {},
          "execution_count": 3
        },
        {
          "output_type": "display_data",
          "data": {
            "image/png": "[encoded data removed]",
            "text/plain": [
              "<Figure size 432x288 with 1 Axes>"
            ]
          },
          "metadata": {
            "needs_background": "light"
          }
        }
      ]
    },
    {
      "cell_type": "code",
      "source": [
        "from sklearn.preprocessing import StandardScaler, MinMaxScaler\n",
        "from sklearn.linear_model import LinearRegression, Lasso, Ridge, HuberRegressor\n",
        "from sklearn.svm import SVR\n",
        "from sklearn.tree import DecisionTreeRegressor, ExtraTreeRegressor\n",
        "from sklearn.ensemble import RandomForestRegressor, ExtraTreesRegressor\n",
        "from sklearn.multioutput import MultiOutputRegressor, RegressorChain\n",
        "from sklearn.model_selection import KFold\n",
        "from datetime import datetime, timedelta\n",
        "from tqdm.auto import tqdm\n",
        "\n",
        "def make_lags(ts, lags = 0) :\n",
        "    return pd.concat({\n",
        "        f'lag_{i}' : ts.shift(i)\n",
        "        for i in range(lags + 1)\n",
        "    }, axis = 1)\n",
        "\n",
        "def make_steps(ts, steps = 1) :\n",
        "    return pd.concat({\n",
        "        f'fore_{i}' : ts.shift(-i)\n",
        "        for i in range(1, steps + 1)\n",
        "    }, axis = 1)\n",
        "\n",
        "def AutoReg(ts, steps, *, lags = 0, estimator = LinearRegression(), method = None) :\n",
        "    origin = make_lags(ts, lags = lags).dropna()\n",
        "    forecast = make_steps(ts, steps = steps).dropna()\n",
        "    y, x = forecast.align(origin, join = 'inner', axis = 0)\n",
        "    methods = ['recursive', 'direct', None, 'dirrec']\n",
        "    model = estimator\n",
        "    if not method in methods : \n",
        "        raise TypeError(f'{method} is not in {methods}')\n",
        "    if method == 'dirrec' :\n",
        "        model = RegressorChain(estimator)\n",
        "    if method == 'direct' :\n",
        "        model = MultiOutputRegressor(estimator)\n",
        "    if method == 'recursive' :\n",
        "        def recursive(ts, estimator, steps) :\n",
        "            for i in range(1, steps+1) :\n",
        "                x = ts.to_frame()\n",
        "                y = ts.shift(-1).dropna()\n",
        "                y, x = y.align(x, join = 'inner', axis = 0)\n",
        "                model.fit(x, y)\n",
        "                preds = pd.Series(\n",
        "                    model.predict(ts.to_frame())\n",
        "                ).iloc[-1]\n",
        "                preds = pd.Series(\n",
        "                    preds, index = [ts.index[-1] + timedelta(days = 1)]\n",
        "                )\n",
        "                ts = ts.append(preds)\n",
        "            return ts.iloc[-steps:].values\n",
        "        return recursive(ts, estimator, steps)\n",
        "    model.fit(x, y)\n",
        "    ypred = pd.DataFrame(\n",
        "        model.predict(origin), index = origin.index, columns = forecast.columns\n",
        "    ).iloc[-1, :]\n",
        "    return ypred.values"
      ],
      "metadata": {
        "id": "u1a0UI7E8Qfy"
      },
      "execution_count": 4,
      "outputs": []
    },
    {
      "cell_type": "code",
      "source": [
        "data = data.loc['2021':]\n",
        "data"
      ],
      "metadata": {
        "colab": {
          "base_uri": "https://localhost:8080/"
        },
        "id": "lzvcC0OumKVL",
        "outputId": "99ef259b-b915-46f3-d955-e242bbfc6c95"
      },
      "execution_count": 5,
      "outputs": [
        {
          "output_type": "execute_result",
          "data": {
            "text/plain": [
              "2021-01-01    911000\n",
              "2021-01-02    911000\n",
              "2021-01-03    912000\n",
              "2021-01-04    912000\n",
              "2021-01-05    914000\n",
              "               ...  \n",
              "2022-02-05    883000\n",
              "2022-02-06    883000\n",
              "2022-02-07    883000\n",
              "2022-02-08    883000\n",
              "2022-02-09    877000\n",
              "Freq: D, Name: Harga Emas, Length: 405, dtype: int64"
            ]
          },
          "metadata": {},
          "execution_count": 5
        }
      ]
    },
    {
      "cell_type": "code",
      "source": [
        "from sklearn.metrics import mean_absolute_error, mean_squared_error\n",
        "from warnings import filterwarnings, simplefilter\n",
        "from sklearn.model_selection import ParameterGrid\n",
        "from sklearn.model_selection import train_test_split\n",
        "filterwarnings('ignore')\n",
        "simplefilter('ignore')\n",
        "train, val = train_test_split(data, test_size = .3, shuffle = False)\n",
        "display(train, val)"
      ],
      "metadata": {
        "colab": {
          "base_uri": "https://localhost:8080/",
          "height": 434
        },
        "id": "39_jkt7GokZR",
        "outputId": "f5209eec-068e-4c40-8be7-0ab165d85fb4"
      },
      "execution_count": 6,
      "outputs": [
        {
          "output_type": "display_data",
          "data": {
            "text/plain": [
              "2021-01-01    911000\n",
              "2021-01-02    911000\n",
              "2021-01-03    912000\n",
              "2021-01-04    912000\n",
              "2021-01-05    914000\n",
              "               ...  \n",
              "2021-10-06    856000\n",
              "2021-10-07    863000\n",
              "2021-10-08    856000\n",
              "2021-10-09    856000\n",
              "2021-10-10    905000\n",
              "Freq: D, Name: Harga Emas, Length: 283, dtype: int64"
            ]
          },
          "metadata": {}
        },
        {
          "output_type": "display_data",
          "data": {
            "text/plain": [
              "2021-10-11    856000\n",
              "2021-10-12    855000\n",
              "2021-10-13    854000\n",
              "2021-10-14    862000\n",
              "2021-10-15    882000\n",
              "               ...  \n",
              "2022-02-05    883000\n",
              "2022-02-06    883000\n",
              "2022-02-07    883000\n",
              "2022-02-08    883000\n",
              "2022-02-09    877000\n",
              "Freq: D, Name: Harga Emas, Length: 122, dtype: int64"
            ]
          },
          "metadata": {}
        }
      ]
    },
    {
      "cell_type": "code",
      "source": [
        "grid = {\n",
        "    'method' : ['direct', 'dirrec', None, 'recursive'],\n",
        "    'lags' : list(range(1, 100)),\n",
        "    'estimator' : [LinearRegression(), DecisionTreeRegressor(max_depth = 3)]\n",
        "}\n",
        "print(list(ParameterGrid(grid)))"
      ],
      "metadata": {
        "colab": {
          "base_uri": "https://localhost:8080/"
        },
        "id": "JxwiYfQR45AC",
        "outputId": "eea3b695-9327-428f-c46f-4ba90cfe33b3"
      },
      "execution_count": 10,
      "outputs": [
        {
          "output_type": "stream",
          "name": "stdout",
          "text": [
            "[{'estimator': LinearRegression(), 'lags': 1, 'method': 'direct'}, {'estimator': LinearRegression(), 'lags': 1, 'method': 'dirrec'}, {'estimator': LinearRegression(), 'lags': 1, 'method': None}, {'estimator': LinearRegression(), 'lags': 1, 'method': 'recursive'}, {'estimator': LinearRegression(), 'lags': 2, 'method': 'direct'}, {'estimator': LinearRegression(), 'lags': 2, 'method': 'dirrec'}, {'estimator': LinearRegression(), 'lags': 2, 'method': None}, {'estimator': LinearRegression(), 'lags': 2, 'method': 'recursive'}, {'estimator': LinearRegression(), 'lags': 3, 'method': 'direct'}, {'estimator': LinearRegression(), 'lags': 3, 'method': 'dirrec'}, {'estimator': LinearRegression(), 'lags': 3, 'method': None}, {'estimator': LinearRegression(), 'lags': 3, 'method': 'recursive'}, {'estimator': LinearRegression(), 'lags': 4, 'method': 'direct'}, {'estimator': LinearRegression(), 'lags': 4, 'method': 'dirrec'}, {'estimator': LinearRegression(), 'lags': 4, 'method': None}, {'estimator': LinearRegression(), 'lags': 4, 'method': 'recursive'}, {'estimator': LinearRegression(), 'lags': 5, 'method': 'direct'}, {'estimator': LinearRegression(), 'lags': 5, 'method': 'dirrec'}, {'estimator': LinearRegression(), 'lags': 5, 'method': None}, {'estimator': LinearRegression(), 'lags': 5, 'method': 'recursive'}, {'estimator': LinearRegression(), 'lags': 6, 'method': 'direct'}, {'estimator': LinearRegression(), 'lags': 6, 'method': 'dirrec'}, {'estimator': LinearRegression(), 'lags': 6, 'method': None}, {'estimator': LinearRegression(), 'lags': 6, 'method': 'recursive'}, {'estimator': LinearRegression(), 'lags': 7, 'method': 'direct'}, {'estimator': LinearRegression(), 'lags': 7, 'method': 'dirrec'}, {'estimator': LinearRegression(), 'lags': 7, 'method': None}, {'estimator': LinearRegression(), 'lags': 7, 'method': 'recursive'}, {'estimator': LinearRegression(), 'lags': 8, 'method': 'direct'}, {'estimator': LinearRegression(), 'lags': 8, 'method': 'dirrec'}, {'estimator': LinearRegression(), 'lags': 8, 'method': None}, {'estimator': LinearRegression(), 'lags': 8, 'method': 'recursive'}, {'estimator': LinearRegression(), 'lags': 9, 'method': 'direct'}, {'estimator': LinearRegression(), 'lags': 9, 'method': 'dirrec'}, {'estimator': LinearRegression(), 'lags': 9, 'method': None}, {'estimator': LinearRegression(), 'lags': 9, 'method': 'recursive'}, {'estimator': LinearRegression(), 'lags': 10, 'method': 'direct'}, {'estimator': LinearRegression(), 'lags': 10, 'method': 'dirrec'}, {'estimator': LinearRegression(), 'lags': 10, 'method': None}, {'estimator': LinearRegression(), 'lags': 10, 'method': 'recursive'}, {'estimator': LinearRegression(), 'lags': 11, 'method': 'direct'}, {'estimator': LinearRegression(), 'lags': 11, 'method': 'dirrec'}, {'estimator': LinearRegression(), 'lags': 11, 'method': None}, {'estimator': LinearRegression(), 'lags': 11, 'method': 'recursive'}, {'estimator': LinearRegression(), 'lags': 12, 'method': 'direct'}, {'estimator': LinearRegression(), 'lags': 12, 'method': 'dirrec'}, {'estimator': LinearRegression(), 'lags': 12, 'method': None}, {'estimator': LinearRegression(), 'lags': 12, 'method': 'recursive'}, {'estimator': LinearRegression(), 'lags': 13, 'method': 'direct'}, {'estimator': LinearRegression(), 'lags': 13, 'method': 'dirrec'}, {'estimator': LinearRegression(), 'lags': 13, 'method': None}, {'estimator': LinearRegression(), 'lags': 13, 'method': 'recursive'}, {'estimator': LinearRegression(), 'lags': 14, 'method': 'direct'}, {'estimator': LinearRegression(), 'lags': 14, 'method': 'dirrec'}, {'estimator': LinearRegression(), 'lags': 14, 'method': None}, {'estimator': LinearRegression(), 'lags': 14, 'method': 'recursive'}, {'estimator': LinearRegression(), 'lags': 15, 'method': 'direct'}, {'estimator': LinearRegression(), 'lags': 15, 'method': 'dirrec'}, {'estimator': LinearRegression(), 'lags': 15, 'method': None}, {'estimator': LinearRegression(), 'lags': 15, 'method': 'recursive'}, {'estimator': LinearRegression(), 'lags': 16, 'method': 'direct'}, {'estimator': LinearRegression(), 'lags': 16, 'method': 'dirrec'}, {'estimator': LinearRegression(), 'lags': 16, 'method': None}, {'estimator': LinearRegression(), 'lags': 16, 'method': 'recursive'}, {'estimator': LinearRegression(), 'lags': 17, 'method': 'direct'}, {'estimator': LinearRegression(), 'lags': 17, 'method': 'dirrec'}, {'estimator': LinearRegression(), 'lags': 17, 'method': None}, {'estimator': LinearRegression(), 'lags': 17, 'method': 'recursive'}, {'estimator': LinearRegression(), 'lags': 18, 'method': 'direct'}, {'estimator': LinearRegression(), 'lags': 18, 'method': 'dirrec'}, {'estimator': LinearRegression(), 'lags': 18, 'method': None}, {'estimator': LinearRegression(), 'lags': 18, 'method': 'recursive'}, {'estimator': LinearRegression(), 'lags': 19, 'method': 'direct'}, {'estimator': LinearRegression(), 'lags': 19, 'method': 'dirrec'}, {'estimator': LinearRegression(), 'lags': 19, 'method': None}, {'estimator': LinearRegression(), 'lags': 19, 'method': 'recursive'}, {'estimator': LinearRegression(), 'lags': 20, 'method': 'direct'}, {'estimator': LinearRegression(), 'lags': 20, 'method': 'dirrec'}, {'estimator': LinearRegression(), 'lags': 20, 'method': None}, {'estimator': LinearRegression(), 'lags': 20, 'method': 'recursive'}, {'estimator': LinearRegression(), 'lags': 21, 'method': 'direct'}, {'estimator': LinearRegression(), 'lags': 21, 'method': 'dirrec'}, {'estimator': LinearRegression(), 'lags': 21, 'method': None}, {'estimator': LinearRegression(), 'lags': 21, 'method': 'recursive'}, {'estimator': LinearRegression(), 'lags': 22, 'method': 'direct'}, {'estimator': LinearRegression(), 'lags': 22, 'method': 'dirrec'}, {'estimator': LinearRegression(), 'lags': 22, 'method': None}, {'estimator': LinearRegression(), 'lags': 22, 'method': 'recursive'}, {'estimator': LinearRegression(), 'lags': 23, 'method': 'direct'}, {'estimator': LinearRegression(), 'lags': 23, 'method': 'dirrec'}, {'estimator': LinearRegression(), 'lags': 23, 'method': None}, {'estimator': LinearRegression(), 'lags': 23, 'method': 'recursive'}, {'estimator': LinearRegression(), 'lags': 24, 'method': 'direct'}, {'estimator': LinearRegression(), 'lags': 24, 'method': 'dirrec'}, {'estimator': LinearRegression(), 'lags': 24, 'method': None}, {'estimator': LinearRegression(), 'lags': 24, 'method': 'recursive'}, {'estimator': LinearRegression(), 'lags': 25, 'method': 'direct'}, {'estimator': LinearRegression(), 'lags': 25, 'method': 'dirrec'}, {'estimator': LinearRegression(), 'lags': 25, 'method': None}, {'estimator': LinearRegression(), 'lags': 25, 'method': 'recursive'}, {'estimator': LinearRegression(), 'lags': 26, 'method': 'direct'}, {'estimator': LinearRegression(), 'lags': 26, 'method': 'dirrec'}, {'estimator': LinearRegression(), 'lags': 26, 'method': None}, {'estimator': LinearRegression(), 'lags': 26, 'method': 'recursive'}, {'estimator': LinearRegression(), 'lags': 27, 'method': 'direct'}, {'estimator': LinearRegression(), 'lags': 27, 'method': 'dirrec'}, {'estimator': LinearRegression(), 'lags': 27, 'method': None}, {'estimator': LinearRegression(), 'lags': 27, 'method': 'recursive'}, {'estimator': LinearRegression(), 'lags': 28, 'method': 'direct'}, {'estimator': LinearRegression(), 'lags': 28, 'method': 'dirrec'}, {'estimator': LinearRegression(), 'lags': 28, 'method': None}, {'estimator': LinearRegression(), 'lags': 28, 'method': 'recursive'}, {'estimator': LinearRegression(), 'lags': 29, 'method': 'direct'}, {'estimator': LinearRegression(), 'lags': 29, 'method': 'dirrec'}, {'estimator': LinearRegression(), 'lags': 29, 'method': None}, {'estimator': LinearRegression(), 'lags': 29, 'method': 'recursive'}, {'estimator': LinearRegression(), 'lags': 30, 'method': 'direct'}, {'estimator': LinearRegression(), 'lags': 30, 'method': 'dirrec'}, {'estimator': LinearRegression(), 'lags': 30, 'method': None}, {'estimator': LinearRegression(), 'lags': 30, 'method': 'recursive'}, {'estimator': LinearRegression(), 'lags': 31, 'method': 'direct'}, {'estimator': LinearRegression(), 'lags': 31, 'method': 'dirrec'}, {'estimator': LinearRegression(), 'lags': 31, 'method': None}, {'estimator': LinearRegression(), 'lags': 31, 'method': 'recursive'}, {'estimator': LinearRegression(), 'lags': 32, 'method': 'direct'}, {'estimator': LinearRegression(), 'lags': 32, 'method': 'dirrec'}, {'estimator': LinearRegression(), 'lags': 32, 'method': None}, {'estimator': LinearRegression(), 'lags': 32, 'method': 'recursive'}, {'estimator': LinearRegression(), 'lags': 33, 'method': 'direct'}, {'estimator': LinearRegression(), 'lags': 33, 'method': 'dirrec'}, {'estimator': LinearRegression(), 'lags': 33, 'method': None}, {'estimator': LinearRegression(), 'lags': 33, 'method': 'recursive'}, {'estimator': LinearRegression(), 'lags': 34, 'method': 'direct'}, {'estimator': LinearRegression(), 'lags': 34, 'method': 'dirrec'}, {'estimator': LinearRegression(), 'lags': 34, 'method': None}, {'estimator': LinearRegression(), 'lags': 34, 'method': 'recursive'}, {'estimator': LinearRegression(), 'lags': 35, 'method': 'direct'}, {'estimator': LinearRegression(), 'lags': 35, 'method': 'dirrec'}, {'estimator': LinearRegression(), 'lags': 35, 'method': None}, {'estimator': LinearRegression(), 'lags': 35, 'method': 'recursive'}, {'estimator': LinearRegression(), 'lags': 36, 'method': 'direct'}, {'estimator': LinearRegression(), 'lags': 36, 'method': 'dirrec'}, {'estimator': LinearRegression(), 'lags': 36, 'method': None}, {'estimator': LinearRegression(), 'lags': 36, 'method': 'recursive'}, {'estimator': LinearRegression(), 'lags': 37, 'method': 'direct'}, {'estimator': LinearRegression(), 'lags': 37, 'method': 'dirrec'}, {'estimator': LinearRegression(), 'lags': 37, 'method': None}, {'estimator': LinearRegression(), 'lags': 37, 'method': 'recursive'}, {'estimator': LinearRegression(), 'lags': 38, 'method': 'direct'}, {'estimator': LinearRegression(), 'lags': 38, 'method': 'dirrec'}, {'estimator': LinearRegression(), 'lags': 38, 'method': None}, {'estimator': LinearRegression(), 'lags': 38, 'method': 'recursive'}, {'estimator': LinearRegression(), 'lags': 39, 'method': 'direct'}, {'estimator': LinearRegression(), 'lags': 39, 'method': 'dirrec'}, {'estimator': LinearRegression(), 'lags': 39, 'method': None}, {'estimator': LinearRegression(), 'lags': 39, 'method': 'recursive'}, {'estimator': LinearRegression(), 'lags': 40, 'method': 'direct'}, {'estimator': LinearRegression(), 'lags': 40, 'method': 'dirrec'}, {'estimator': LinearRegression(), 'lags': 40, 'method': None}, {'estimator': LinearRegression(), 'lags': 40, 'method': 'recursive'}, {'estimator': LinearRegression(), 'lags': 41, 'method': 'direct'}, {'estimator': LinearRegression(), 'lags': 41, 'method': 'dirrec'}, {'estimator': LinearRegression(), 'lags': 41, 'method': None}, {'estimator': LinearRegression(), 'lags': 41, 'method': 'recursive'}, {'estimator': LinearRegression(), 'lags': 42, 'method': 'direct'}, {'estimator': LinearRegression(), 'lags': 42, 'method': 'dirrec'}, {'estimator': LinearRegression(), 'lags': 42, 'method': None}, {'estimator': LinearRegression(), 'lags': 42, 'method': 'recursive'}, {'estimator': LinearRegression(), 'lags': 43, 'method': 'direct'}, {'estimator': LinearRegression(), 'lags': 43, 'method': 'dirrec'}, {'estimator': LinearRegression(), 'lags': 43, 'method': None}, {'estimator': LinearRegression(), 'lags': 43, 'method': 'recursive'}, {'estimator': LinearRegression(), 'lags': 44, 'method': 'direct'}, {'estimator': LinearRegression(), 'lags': 44, 'method': 'dirrec'}, {'estimator': LinearRegression(), 'lags': 44, 'method': None}, {'estimator': LinearRegression(), 'lags': 44, 'method': 'recursive'}, {'estimator': LinearRegression(), 'lags': 45, 'method': 'direct'}, {'estimator': LinearRegression(), 'lags': 45, 'method': 'dirrec'}, {'estimator': LinearRegression(), 'lags': 45, 'method': None}, {'estimator': LinearRegression(), 'lags': 45, 'method': 'recursive'}, {'estimator': LinearRegression(), 'lags': 46, 'method': 'direct'}, {'estimator': LinearRegression(), 'lags': 46, 'method': 'dirrec'}, {'estimator': LinearRegression(), 'lags': 46, 'method': None}, {'estimator': LinearRegression(), 'lags': 46, 'method': 'recursive'}, {'estimator': LinearRegression(), 'lags': 47, 'method': 'direct'}, {'estimator': LinearRegression(), 'lags': 47, 'method': 'dirrec'}, {'estimator': LinearRegression(), 'lags': 47, 'method': None}, {'estimator': LinearRegression(), 'lags': 47, 'method': 'recursive'}, {'estimator': LinearRegression(), 'lags': 48, 'method': 'direct'}, {'estimator': LinearRegression(), 'lags': 48, 'method': 'dirrec'}, {'estimator': LinearRegression(), 'lags': 48, 'method': None}, {'estimator': LinearRegression(), 'lags': 48, 'method': 'recursive'}, {'estimator': LinearRegression(), 'lags': 49, 'method': 'direct'}, {'estimator': LinearRegression(), 'lags': 49, 'method': 'dirrec'}, {'estimator': LinearRegression(), 'lags': 49, 'method': None}, {'estimator': LinearRegression(), 'lags': 49, 'method': 'recursive'}, {'estimator': LinearRegression(), 'lags': 50, 'method': 'direct'}, {'estimator': LinearRegression(), 'lags': 50, 'method': 'dirrec'}, {'estimator': LinearRegression(), 'lags': 50, 'method': None}, {'estimator': LinearRegression(), 'lags': 50, 'method': 'recursive'}, {'estimator': LinearRegression(), 'lags': 51, 'method': 'direct'}, {'estimator': LinearRegression(), 'lags': 51, 'method': 'dirrec'}, {'estimator': LinearRegression(), 'lags': 51, 'method': None}, {'estimator': LinearRegression(), 'lags': 51, 'method': 'recursive'}, {'estimator': LinearRegression(), 'lags': 52, 'method': 'direct'}, {'estimator': LinearRegression(), 'lags': 52, 'method': 'dirrec'}, {'estimator': LinearRegression(), 'lags': 52, 'method': None}, {'estimator': LinearRegression(), 'lags': 52, 'method': 'recursive'}, {'estimator': LinearRegression(), 'lags': 53, 'method': 'direct'}, {'estimator': LinearRegression(), 'lags': 53, 'method': 'dirrec'}, {'estimator': LinearRegression(), 'lags': 53, 'method': None}, {'estimator': LinearRegression(), 'lags': 53, 'method': 'recursive'}, {'estimator': LinearRegression(), 'lags': 54, 'method': 'direct'}, {'estimator': LinearRegression(), 'lags': 54, 'method': 'dirrec'}, {'estimator': LinearRegression(), 'lags': 54, 'method': None}, {'estimator': LinearRegression(), 'lags': 54, 'method': 'recursive'}, {'estimator': LinearRegression(), 'lags': 55, 'method': 'direct'}, {'estimator': LinearRegression(), 'lags': 55, 'method': 'dirrec'}, {'estimator': LinearRegression(), 'lags': 55, 'method': None}, {'estimator': LinearRegression(), 'lags': 55, 'method': 'recursive'}, {'estimator': LinearRegression(), 'lags': 56, 'method': 'direct'}, {'estimator': LinearRegression(), 'lags': 56, 'method': 'dirrec'}, {'estimator': LinearRegression(), 'lags': 56, 'method': None}, {'estimator': LinearRegression(), 'lags': 56, 'method': 'recursive'}, {'estimator': LinearRegression(), 'lags': 57, 'method': 'direct'}, {'estimator': LinearRegression(), 'lags': 57, 'method': 'dirrec'}, {'estimator': LinearRegression(), 'lags': 57, 'method': None}, {'estimator': LinearRegression(), 'lags': 57, 'method': 'recursive'}, {'estimator': LinearRegression(), 'lags': 58, 'method': 'direct'}, {'estimator': LinearRegression(), 'lags': 58, 'method': 'dirrec'}, {'estimator': LinearRegression(), 'lags': 58, 'method': None}, {'estimator': LinearRegression(), 'lags': 58, 'method': 'recursive'}, {'estimator': LinearRegression(), 'lags': 59, 'method': 'direct'}, {'estimator': LinearRegression(), 'lags': 59, 'method': 'dirrec'}, {'estimator': LinearRegression(), 'lags': 59, 'method': None}, {'estimator': LinearRegression(), 'lags': 59, 'method': 'recursive'}, {'estimator': LinearRegression(), 'lags': 60, 'method': 'direct'}, {'estimator': LinearRegression(), 'lags': 60, 'method': 'dirrec'}, {'estimator': LinearRegression(), 'lags': 60, 'method': None}, {'estimator': LinearRegression(), 'lags': 60, 'method': 'recursive'}, {'estimator': LinearRegression(), 'lags': 61, 'method': 'direct'}, {'estimator': LinearRegression(), 'lags': 61, 'method': 'dirrec'}, {'estimator': LinearRegression(), 'lags': 61, 'method': None}, {'estimator': LinearRegression(), 'lags': 61, 'method': 'recursive'}, {'estimator': LinearRegression(), 'lags': 62, 'method': 'direct'}, {'estimator': LinearRegression(), 'lags': 62, 'method': 'dirrec'}, {'estimator': LinearRegression(), 'lags': 62, 'method': None}, {'estimator': LinearRegression(), 'lags': 62, 'method': 'recursive'}, {'estimator': LinearRegression(), 'lags': 63, 'method': 'direct'}, {'estimator': LinearRegression(), 'lags': 63, 'method': 'dirrec'}, {'estimator': LinearRegression(), 'lags': 63, 'method': None}, {'estimator': LinearRegression(), 'lags': 63, 'method': 'recursive'}, {'estimator': LinearRegression(), 'lags': 64, 'method': 'direct'}, {'estimator': LinearRegression(), 'lags': 64, 'method': 'dirrec'}, {'estimator': LinearRegression(), 'lags': 64, 'method': None}, {'estimator': LinearRegression(), 'lags': 64, 'method': 'recursive'}, {'estimator': LinearRegression(), 'lags': 65, 'method': 'direct'}, {'estimator': LinearRegression(), 'lags': 65, 'method': 'dirrec'}, {'estimator': LinearRegression(), 'lags': 65, 'method': None}, {'estimator': LinearRegression(), 'lags': 65, 'method': 'recursive'}, {'estimator': LinearRegression(), 'lags': 66, 'method': 'direct'}, {'estimator': LinearRegression(), 'lags': 66, 'method': 'dirrec'}, {'estimator': LinearRegression(), 'lags': 66, 'method': None}, {'estimator': LinearRegression(), 'lags': 66, 'method': 'recursive'}, {'estimator': LinearRegression(), 'lags': 67, 'method': 'direct'}, {'estimator': LinearRegression(), 'lags': 67, 'method': 'dirrec'}, {'estimator': LinearRegression(), 'lags': 67, 'method': None}, {'estimator': LinearRegression(), 'lags': 67, 'method': 'recursive'}, {'estimator': LinearRegression(), 'lags': 68, 'method': 'direct'}, {'estimator': LinearRegression(), 'lags': 68, 'method': 'dirrec'}, {'estimator': LinearRegression(), 'lags': 68, 'method': None}, {'estimator': LinearRegression(), 'lags': 68, 'method': 'recursive'}, {'estimator': LinearRegression(), 'lags': 69, 'method': 'direct'}, {'estimator': LinearRegression(), 'lags': 69, 'method': 'dirrec'}, {'estimator': LinearRegression(), 'lags': 69, 'method': None}, {'estimator': LinearRegression(), 'lags': 69, 'method': 'recursive'}, {'estimator': LinearRegression(), 'lags': 70, 'method': 'direct'}, {'estimator': LinearRegression(), 'lags': 70, 'method': 'dirrec'}, {'estimator': LinearRegression(), 'lags': 70, 'method': None}, {'estimator': LinearRegression(), 'lags': 70, 'method': 'recursive'}, {'estimator': LinearRegression(), 'lags': 71, 'method': 'direct'}, {'estimator': LinearRegression(), 'lags': 71, 'method': 'dirrec'}, {'estimator': LinearRegression(), 'lags': 71, 'method': None}, {'estimator': LinearRegression(), 'lags': 71, 'method': 'recursive'}, {'estimator': LinearRegression(), 'lags': 72, 'method': 'direct'}, {'estimator': LinearRegression(), 'lags': 72, 'method': 'dirrec'}, {'estimator': LinearRegression(), 'lags': 72, 'method': None}, {'estimator': LinearRegression(), 'lags': 72, 'method': 'recursive'}, {'estimator': LinearRegression(), 'lags': 73, 'method': 'direct'}, {'estimator': LinearRegression(), 'lags': 73, 'method': 'dirrec'}, {'estimator': LinearRegression(), 'lags': 73, 'method': None}, {'estimator': LinearRegression(), 'lags': 73, 'method': 'recursive'}, {'estimator': LinearRegression(), 'lags': 74, 'method': 'direct'}, {'estimator': LinearRegression(), 'lags': 74, 'method': 'dirrec'}, {'estimator': LinearRegression(), 'lags': 74, 'method': None}, {'estimator': LinearRegression(), 'lags': 74, 'method': 'recursive'}, {'estimator': LinearRegression(), 'lags': 75, 'method': 'direct'}, {'estimator': LinearRegression(), 'lags': 75, 'method': 'dirrec'}, {'estimator': LinearRegression(), 'lags': 75, 'method': None}, {'estimator': LinearRegression(), 'lags': 75, 'method': 'recursive'}, {'estimator': LinearRegression(), 'lags': 76, 'method': 'direct'}, {'estimator': LinearRegression(), 'lags': 76, 'method': 'dirrec'}, {'estimator': LinearRegression(), 'lags': 76, 'method': None}, {'estimator': LinearRegression(), 'lags': 76, 'method': 'recursive'}, {'estimator': LinearRegression(), 'lags': 77, 'method': 'direct'}, {'estimator': LinearRegression(), 'lags': 77, 'method': 'dirrec'}, {'estimator': LinearRegression(), 'lags': 77, 'method': None}, {'estimator': LinearRegression(), 'lags': 77, 'method': 'recursive'}, {'estimator': LinearRegression(), 'lags': 78, 'method': 'direct'}, {'estimator': LinearRegression(), 'lags': 78, 'method': 'dirrec'}, {'estimator': LinearRegression(), 'lags': 78, 'method': None}, {'estimator': LinearRegression(), 'lags': 78, 'method': 'recursive'}, {'estimator': LinearRegression(), 'lags': 79, 'method': 'direct'}, {'estimator': LinearRegression(), 'lags': 79, 'method': 'dirrec'}, {'estimator': LinearRegression(), 'lags': 79, 'method': None}, {'estimator': LinearRegression(), 'lags': 79, 'method': 'recursive'}, {'estimator': LinearRegression(), 'lags': 80, 'method': 'direct'}, {'estimator': LinearRegression(), 'lags': 80, 'method': 'dirrec'}, {'estimator': LinearRegression(), 'lags': 80, 'method': None}, {'estimator': LinearRegression(), 'lags': 80, 'method': 'recursive'}, {'estimator': LinearRegression(), 'lags': 81, 'method': 'direct'}, {'estimator': LinearRegression(), 'lags': 81, 'method': 'dirrec'}, {'estimator': LinearRegression(), 'lags': 81, 'method': None}, {'estimator': LinearRegression(), 'lags': 81, 'method': 'recursive'}, {'estimator': LinearRegression(), 'lags': 82, 'method': 'direct'}, {'estimator': LinearRegression(), 'lags': 82, 'method': 'dirrec'}, {'estimator': LinearRegression(), 'lags': 82, 'method': None}, {'estimator': LinearRegression(), 'lags': 82, 'method': 'recursive'}, {'estimator': LinearRegression(), 'lags': 83, 'method': 'direct'}, {'estimator': LinearRegression(), 'lags': 83, 'method': 'dirrec'}, {'estimator': LinearRegression(), 'lags': 83, 'method': None}, {'estimator': LinearRegression(), 'lags': 83, 'method': 'recursive'}, {'estimator': LinearRegression(), 'lags': 84, 'method': 'direct'}, {'estimator': LinearRegression(), 'lags': 84, 'method': 'dirrec'}, {'estimator': LinearRegression(), 'lags': 84, 'method': None}, {'estimator': LinearRegression(), 'lags': 84, 'method': 'recursive'}, {'estimator': LinearRegression(), 'lags': 85, 'method': 'direct'}, {'estimator': LinearRegression(), 'lags': 85, 'method': 'dirrec'}, {'estimator': LinearRegression(), 'lags': 85, 'method': None}, {'estimator': LinearRegression(), 'lags': 85, 'method': 'recursive'}, {'estimator': LinearRegression(), 'lags': 86, 'method': 'direct'}, {'estimator': LinearRegression(), 'lags': 86, 'method': 'dirrec'}, {'estimator': LinearRegression(), 'lags': 86, 'method': None}, {'estimator': LinearRegression(), 'lags': 86, 'method': 'recursive'}, {'estimator': LinearRegression(), 'lags': 87, 'method': 'direct'}, {'estimator': LinearRegression(), 'lags': 87, 'method': 'dirrec'}, {'estimator': LinearRegression(), 'lags': 87, 'method': None}, {'estimator': LinearRegression(), 'lags': 87, 'method': 'recursive'}, {'estimator': LinearRegression(), 'lags': 88, 'method': 'direct'}, {'estimator': LinearRegression(), 'lags': 88, 'method': 'dirrec'}, {'estimator': LinearRegression(), 'lags': 88, 'method': None}, {'estimator': LinearRegression(), 'lags': 88, 'method': 'recursive'}, {'estimator': LinearRegression(), 'lags': 89, 'method': 'direct'}, {'estimator': LinearRegression(), 'lags': 89, 'method': 'dirrec'}, {'estimator': LinearRegression(), 'lags': 89, 'method': None}, {'estimator': LinearRegression(), 'lags': 89, 'method': 'recursive'}, {'estimator': LinearRegression(), 'lags': 90, 'method': 'direct'}, {'estimator': LinearRegression(), 'lags': 90, 'method': 'dirrec'}, {'estimator': LinearRegression(), 'lags': 90, 'method': None}, {'estimator': LinearRegression(), 'lags': 90, 'method': 'recursive'}, {'estimator': LinearRegression(), 'lags': 91, 'method': 'direct'}, {'estimator': LinearRegression(), 'lags': 91, 'method': 'dirrec'}, {'estimator': LinearRegression(), 'lags': 91, 'method': None}, {'estimator': LinearRegression(), 'lags': 91, 'method': 'recursive'}, {'estimator': LinearRegression(), 'lags': 92, 'method': 'direct'}, {'estimator': LinearRegression(), 'lags': 92, 'method': 'dirrec'}, {'estimator': LinearRegression(), 'lags': 92, 'method': None}, {'estimator': LinearRegression(), 'lags': 92, 'method': 'recursive'}, {'estimator': LinearRegression(), 'lags': 93, 'method': 'direct'}, {'estimator': LinearRegression(), 'lags': 93, 'method': 'dirrec'}, {'estimator': LinearRegression(), 'lags': 93, 'method': None}, {'estimator': LinearRegression(), 'lags': 93, 'method': 'recursive'}, {'estimator': LinearRegression(), 'lags': 94, 'method': 'direct'}, {'estimator': LinearRegression(), 'lags': 94, 'method': 'dirrec'}, {'estimator': LinearRegression(), 'lags': 94, 'method': None}, {'estimator': LinearRegression(), 'lags': 94, 'method': 'recursive'}, {'estimator': LinearRegression(), 'lags': 95, 'method': 'direct'}, {'estimator': LinearRegression(), 'lags': 95, 'method': 'dirrec'}, {'estimator': LinearRegression(), 'lags': 95, 'method': None}, {'estimator': LinearRegression(), 'lags': 95, 'method': 'recursive'}, {'estimator': LinearRegression(), 'lags': 96, 'method': 'direct'}, {'estimator': LinearRegression(), 'lags': 96, 'method': 'dirrec'}, {'estimator': LinearRegression(), 'lags': 96, 'method': None}, {'estimator': LinearRegression(), 'lags': 96, 'method': 'recursive'}, {'estimator': LinearRegression(), 'lags': 97, 'method': 'direct'}, {'estimator': LinearRegression(), 'lags': 97, 'method': 'dirrec'}, {'estimator': LinearRegression(), 'lags': 97, 'method': None}, {'estimator': LinearRegression(), 'lags': 97, 'method': 'recursive'}, {'estimator': LinearRegression(), 'lags': 98, 'method': 'direct'}, {'estimator': LinearRegression(), 'lags': 98, 'method': 'dirrec'}, {'estimator': LinearRegression(), 'lags': 98, 'method': None}, {'estimator': LinearRegression(), 'lags': 98, 'method': 'recursive'}, {'estimator': LinearRegression(), 'lags': 99, 'method': 'direct'}, {'estimator': LinearRegression(), 'lags': 99, 'method': 'dirrec'}, {'estimator': LinearRegression(), 'lags': 99, 'method': None}, {'estimator': LinearRegression(), 'lags': 99, 'method': 'recursive'}, {'estimator': DecisionTreeRegressor(max_depth=3), 'lags': 1, 'method': 'direct'}, {'estimator': DecisionTreeRegressor(max_depth=3), 'lags': 1, 'method': 'dirrec'}, {'estimator': DecisionTreeRegressor(max_depth=3), 'lags': 1, 'method': None}, {'estimator': DecisionTreeRegressor(max_depth=3), 'lags': 1, 'method': 'recursive'}, {'estimator': DecisionTreeRegressor(max_depth=3), 'lags': 2, 'method': 'direct'}, {'estimator': DecisionTreeRegressor(max_depth=3), 'lags': 2, 'method': 'dirrec'}, {'estimator': DecisionTreeRegressor(max_depth=3), 'lags': 2, 'method': None}, {'estimator': DecisionTreeRegressor(max_depth=3), 'lags': 2, 'method': 'recursive'}, {'estimator': DecisionTreeRegressor(max_depth=3), 'lags': 3, 'method': 'direct'}, {'estimator': DecisionTreeRegressor(max_depth=3), 'lags': 3, 'method': 'dirrec'}, {'estimator': DecisionTreeRegressor(max_depth=3), 'lags': 3, 'method': None}, {'estimator': DecisionTreeRegressor(max_depth=3), 'lags': 3, 'method': 'recursive'}, {'estimator': DecisionTreeRegressor(max_depth=3), 'lags': 4, 'method': 'direct'}, {'estimator': DecisionTreeRegressor(max_depth=3), 'lags': 4, 'method': 'dirrec'}, {'estimator': DecisionTreeRegressor(max_depth=3), 'lags': 4, 'method': None}, {'estimator': DecisionTreeRegressor(max_depth=3), 'lags': 4, 'method': 'recursive'}, {'estimator': DecisionTreeRegressor(max_depth=3), 'lags': 5, 'method': 'direct'}, {'estimator': DecisionTreeRegressor(max_depth=3), 'lags': 5, 'method': 'dirrec'}, {'estimator': DecisionTreeRegressor(max_depth=3), 'lags': 5, 'method': None}, {'estimator': DecisionTreeRegressor(max_depth=3), 'lags': 5, 'method': 'recursive'}, {'estimator': DecisionTreeRegressor(max_depth=3), 'lags': 6, 'method': 'direct'}, {'estimator': DecisionTreeRegressor(max_depth=3), 'lags': 6, 'method': 'dirrec'}, {'estimator': DecisionTreeRegressor(max_depth=3), 'lags': 6, 'method': None}, {'estimator': DecisionTreeRegressor(max_depth=3), 'lags': 6, 'method': 'recursive'}, {'estimator': DecisionTreeRegressor(max_depth=3), 'lags': 7, 'method': 'direct'}, {'estimator': DecisionTreeRegressor(max_depth=3), 'lags': 7, 'method': 'dirrec'}, {'estimator': DecisionTreeRegressor(max_depth=3), 'lags': 7, 'method': None}, {'estimator': DecisionTreeRegressor(max_depth=3), 'lags': 7, 'method': 'recursive'}, {'estimator': DecisionTreeRegressor(max_depth=3), 'lags': 8, 'method': 'direct'}, {'estimator': DecisionTreeRegressor(max_depth=3), 'lags': 8, 'method': 'dirrec'}, {'estimator': DecisionTreeRegressor(max_depth=3), 'lags': 8, 'method': None}, {'estimator': DecisionTreeRegressor(max_depth=3), 'lags': 8, 'method': 'recursive'}, {'estimator': DecisionTreeRegressor(max_depth=3), 'lags': 9, 'method': 'direct'}, {'estimator': DecisionTreeRegressor(max_depth=3), 'lags': 9, 'method': 'dirrec'}, {'estimator': DecisionTreeRegressor(max_depth=3), 'lags': 9, 'method': None}, {'estimator': DecisionTreeRegressor(max_depth=3), 'lags': 9, 'method': 'recursive'}, {'estimator': DecisionTreeRegressor(max_depth=3), 'lags': 10, 'method': 'direct'}, {'estimator': DecisionTreeRegressor(max_depth=3), 'lags': 10, 'method': 'dirrec'}, {'estimator': DecisionTreeRegressor(max_depth=3), 'lags': 10, 'method': None}, {'estimator': DecisionTreeRegressor(max_depth=3), 'lags': 10, 'method': 'recursive'}, {'estimator': DecisionTreeRegressor(max_depth=3), 'lags': 11, 'method': 'direct'}, {'estimator': DecisionTreeRegressor(max_depth=3), 'lags': 11, 'method': 'dirrec'}, {'estimator': DecisionTreeRegressor(max_depth=3), 'lags': 11, 'method': None}, {'estimator': DecisionTreeRegressor(max_depth=3), 'lags': 11, 'method': 'recursive'}, {'estimator': DecisionTreeRegressor(max_depth=3), 'lags': 12, 'method': 'direct'}, {'estimator': DecisionTreeRegressor(max_depth=3), 'lags': 12, 'method': 'dirrec'}, {'estimator': DecisionTreeRegressor(max_depth=3), 'lags': 12, 'method': None}, {'estimator': DecisionTreeRegressor(max_depth=3), 'lags': 12, 'method': 'recursive'}, {'estimator': DecisionTreeRegressor(max_depth=3), 'lags': 13, 'method': 'direct'}, {'estimator': DecisionTreeRegressor(max_depth=3), 'lags': 13, 'method': 'dirrec'}, {'estimator': DecisionTreeRegressor(max_depth=3), 'lags': 13, 'method': None}, {'estimator': DecisionTreeRegressor(max_depth=3), 'lags': 13, 'method': 'recursive'}, {'estimator': DecisionTreeRegressor(max_depth=3), 'lags': 14, 'method': 'direct'}, {'estimator': DecisionTreeRegressor(max_depth=3), 'lags': 14, 'method': 'dirrec'}, {'estimator': DecisionTreeRegressor(max_depth=3), 'lags': 14, 'method': None}, {'estimator': DecisionTreeRegressor(max_depth=3), 'lags': 14, 'method': 'recursive'}, {'estimator': DecisionTreeRegressor(max_depth=3), 'lags': 15, 'method': 'direct'}, {'estimator': DecisionTreeRegressor(max_depth=3), 'lags': 15, 'method': 'dirrec'}, {'estimator': DecisionTreeRegressor(max_depth=3), 'lags': 15, 'method': None}, {'estimator': DecisionTreeRegressor(max_depth=3), 'lags': 15, 'method': 'recursive'}, {'estimator': DecisionTreeRegressor(max_depth=3), 'lags': 16, 'method': 'direct'}, {'estimator': DecisionTreeRegressor(max_depth=3), 'lags': 16, 'method': 'dirrec'}, {'estimator': DecisionTreeRegressor(max_depth=3), 'lags': 16, 'method': None}, {'estimator': DecisionTreeRegressor(max_depth=3), 'lags': 16, 'method': 'recursive'}, {'estimator': DecisionTreeRegressor(max_depth=3), 'lags': 17, 'method': 'direct'}, {'estimator': DecisionTreeRegressor(max_depth=3), 'lags': 17, 'method': 'dirrec'}, {'estimator': DecisionTreeRegressor(max_depth=3), 'lags': 17, 'method': None}, {'estimator': DecisionTreeRegressor(max_depth=3), 'lags': 17, 'method': 'recursive'}, {'estimator': DecisionTreeRegressor(max_depth=3), 'lags': 18, 'method': 'direct'}, {'estimator': DecisionTreeRegressor(max_depth=3), 'lags': 18, 'method': 'dirrec'}, {'estimator': DecisionTreeRegressor(max_depth=3), 'lags': 18, 'method': None}, {'estimator': DecisionTreeRegressor(max_depth=3), 'lags': 18, 'method': 'recursive'}, {'estimator': DecisionTreeRegressor(max_depth=3), 'lags': 19, 'method': 'direct'}, {'estimator': DecisionTreeRegressor(max_depth=3), 'lags': 19, 'method': 'dirrec'}, {'estimator': DecisionTreeRegressor(max_depth=3), 'lags': 19, 'method': None}, {'estimator': DecisionTreeRegressor(max_depth=3), 'lags': 19, 'method': 'recursive'}, {'estimator': DecisionTreeRegressor(max_depth=3), 'lags': 20, 'method': 'direct'}, {'estimator': DecisionTreeRegressor(max_depth=3), 'lags': 20, 'method': 'dirrec'}, {'estimator': DecisionTreeRegressor(max_depth=3), 'lags': 20, 'method': None}, {'estimator': DecisionTreeRegressor(max_depth=3), 'lags': 20, 'method': 'recursive'}, {'estimator': DecisionTreeRegressor(max_depth=3), 'lags': 21, 'method': 'direct'}, {'estimator': DecisionTreeRegressor(max_depth=3), 'lags': 21, 'method': 'dirrec'}, {'estimator': DecisionTreeRegressor(max_depth=3), 'lags': 21, 'method': None}, {'estimator': DecisionTreeRegressor(max_depth=3), 'lags': 21, 'method': 'recursive'}, {'estimator': DecisionTreeRegressor(max_depth=3), 'lags': 22, 'method': 'direct'}, {'estimator': DecisionTreeRegressor(max_depth=3), 'lags': 22, 'method': 'dirrec'}, {'estimator': DecisionTreeRegressor(max_depth=3), 'lags': 22, 'method': None}, {'estimator': DecisionTreeRegressor(max_depth=3), 'lags': 22, 'method': 'recursive'}, {'estimator': DecisionTreeRegressor(max_depth=3), 'lags': 23, 'method': 'direct'}, {'estimator': DecisionTreeRegressor(max_depth=3), 'lags': 23, 'method': 'dirrec'}, {'estimator': DecisionTreeRegressor(max_depth=3), 'lags': 23, 'method': None}, {'estimator': DecisionTreeRegressor(max_depth=3), 'lags': 23, 'method': 'recursive'}, {'estimator': DecisionTreeRegressor(max_depth=3), 'lags': 24, 'method': 'direct'}, {'estimator': DecisionTreeRegressor(max_depth=3), 'lags': 24, 'method': 'dirrec'}, {'estimator': DecisionTreeRegressor(max_depth=3), 'lags': 24, 'method': None}, {'estimator': DecisionTreeRegressor(max_depth=3), 'lags': 24, 'method': 'recursive'}, {'estimator': DecisionTreeRegressor(max_depth=3), 'lags': 25, 'method': 'direct'}, {'estimator': DecisionTreeRegressor(max_depth=3), 'lags': 25, 'method': 'dirrec'}, {'estimator': DecisionTreeRegressor(max_depth=3), 'lags': 25, 'method': None}, {'estimator': DecisionTreeRegressor(max_depth=3), 'lags': 25, 'method': 'recursive'}, {'estimator': DecisionTreeRegressor(max_depth=3), 'lags': 26, 'method': 'direct'}, {'estimator': DecisionTreeRegressor(max_depth=3), 'lags': 26, 'method': 'dirrec'}, {'estimator': DecisionTreeRegressor(max_depth=3), 'lags': 26, 'method': None}, {'estimator': DecisionTreeRegressor(max_depth=3), 'lags': 26, 'method': 'recursive'}, {'estimator': DecisionTreeRegressor(max_depth=3), 'lags': 27, 'method': 'direct'}, {'estimator': DecisionTreeRegressor(max_depth=3), 'lags': 27, 'method': 'dirrec'}, {'estimator': DecisionTreeRegressor(max_depth=3), 'lags': 27, 'method': None}, {'estimator': DecisionTreeRegressor(max_depth=3), 'lags': 27, 'method': 'recursive'}, {'estimator': DecisionTreeRegressor(max_depth=3), 'lags': 28, 'method': 'direct'}, {'estimator': DecisionTreeRegressor(max_depth=3), 'lags': 28, 'method': 'dirrec'}, {'estimator': DecisionTreeRegressor(max_depth=3), 'lags': 28, 'method': None}, {'estimator': DecisionTreeRegressor(max_depth=3), 'lags': 28, 'method': 'recursive'}, {'estimator': DecisionTreeRegressor(max_depth=3), 'lags': 29, 'method': 'direct'}, {'estimator': DecisionTreeRegressor(max_depth=3), 'lags': 29, 'method': 'dirrec'}, {'estimator': DecisionTreeRegressor(max_depth=3), 'lags': 29, 'method': None}, {'estimator': DecisionTreeRegressor(max_depth=3), 'lags': 29, 'method': 'recursive'}, {'estimator': DecisionTreeRegressor(max_depth=3), 'lags': 30, 'method': 'direct'}, {'estimator': DecisionTreeRegressor(max_depth=3), 'lags': 30, 'method': 'dirrec'}, {'estimator': DecisionTreeRegressor(max_depth=3), 'lags': 30, 'method': None}, {'estimator': DecisionTreeRegressor(max_depth=3), 'lags': 30, 'method': 'recursive'}, {'estimator': DecisionTreeRegressor(max_depth=3), 'lags': 31, 'method': 'direct'}, {'estimator': DecisionTreeRegressor(max_depth=3), 'lags': 31, 'method': 'dirrec'}, {'estimator': DecisionTreeRegressor(max_depth=3), 'lags': 31, 'method': None}, {'estimator': DecisionTreeRegressor(max_depth=3), 'lags': 31, 'method': 'recursive'}, {'estimator': DecisionTreeRegressor(max_depth=3), 'lags': 32, 'method': 'direct'}, {'estimator': DecisionTreeRegressor(max_depth=3), 'lags': 32, 'method': 'dirrec'}, {'estimator': DecisionTreeRegressor(max_depth=3), 'lags': 32, 'method': None}, {'estimator': DecisionTreeRegressor(max_depth=3), 'lags': 32, 'method': 'recursive'}, {'estimator': DecisionTreeRegressor(max_depth=3), 'lags': 33, 'method': 'direct'}, {'estimator': DecisionTreeRegressor(max_depth=3), 'lags': 33, 'method': 'dirrec'}, {'estimator': DecisionTreeRegressor(max_depth=3), 'lags': 33, 'method': None}, {'estimator': DecisionTreeRegressor(max_depth=3), 'lags': 33, 'method': 'recursive'}, {'estimator': DecisionTreeRegressor(max_depth=3), 'lags': 34, 'method': 'direct'}, {'estimator': DecisionTreeRegressor(max_depth=3), 'lags': 34, 'method': 'dirrec'}, {'estimator': DecisionTreeRegressor(max_depth=3), 'lags': 34, 'method': None}, {'estimator': DecisionTreeRegressor(max_depth=3), 'lags': 34, 'method': 'recursive'}, {'estimator': DecisionTreeRegressor(max_depth=3), 'lags': 35, 'method': 'direct'}, {'estimator': DecisionTreeRegressor(max_depth=3), 'lags': 35, 'method': 'dirrec'}, {'estimator': DecisionTreeRegressor(max_depth=3), 'lags': 35, 'method': None}, {'estimator': DecisionTreeRegressor(max_depth=3), 'lags': 35, 'method': 'recursive'}, {'estimator': DecisionTreeRegressor(max_depth=3), 'lags': 36, 'method': 'direct'}, {'estimator': DecisionTreeRegressor(max_depth=3), 'lags': 36, 'method': 'dirrec'}, {'estimator': DecisionTreeRegressor(max_depth=3), 'lags': 36, 'method': None}, {'estimator': DecisionTreeRegressor(max_depth=3), 'lags': 36, 'method': 'recursive'}, {'estimator': DecisionTreeRegressor(max_depth=3), 'lags': 37, 'method': 'direct'}, {'estimator': DecisionTreeRegressor(max_depth=3), 'lags': 37, 'method': 'dirrec'}, {'estimator': DecisionTreeRegressor(max_depth=3), 'lags': 37, 'method': None}, {'estimator': DecisionTreeRegressor(max_depth=3), 'lags': 37, 'method': 'recursive'}, {'estimator': DecisionTreeRegressor(max_depth=3), 'lags': 38, 'method': 'direct'}, {'estimator': DecisionTreeRegressor(max_depth=3), 'lags': 38, 'method': 'dirrec'}, {'estimator': DecisionTreeRegressor(max_depth=3), 'lags': 38, 'method': None}, {'estimator': DecisionTreeRegressor(max_depth=3), 'lags': 38, 'method': 'recursive'}, {'estimator': DecisionTreeRegressor(max_depth=3), 'lags': 39, 'method': 'direct'}, {'estimator': DecisionTreeRegressor(max_depth=3), 'lags': 39, 'method': 'dirrec'}, {'estimator': DecisionTreeRegressor(max_depth=3), 'lags': 39, 'method': None}, {'estimator': DecisionTreeRegressor(max_depth=3), 'lags': 39, 'method': 'recursive'}, {'estimator': DecisionTreeRegressor(max_depth=3), 'lags': 40, 'method': 'direct'}, {'estimator': DecisionTreeRegressor(max_depth=3), 'lags': 40, 'method': 'dirrec'}, {'estimator': DecisionTreeRegressor(max_depth=3), 'lags': 40, 'method': None}, {'estimator': DecisionTreeRegressor(max_depth=3), 'lags': 40, 'method': 'recursive'}, {'estimator': DecisionTreeRegressor(max_depth=3), 'lags': 41, 'method': 'direct'}, {'estimator': DecisionTreeRegressor(max_depth=3), 'lags': 41, 'method': 'dirrec'}, {'estimator': DecisionTreeRegressor(max_depth=3), 'lags': 41, 'method': None}, {'estimator': DecisionTreeRegressor(max_depth=3), 'lags': 41, 'method': 'recursive'}, {'estimator': DecisionTreeRegressor(max_depth=3), 'lags': 42, 'method': 'direct'}, {'estimator': DecisionTreeRegressor(max_depth=3), 'lags': 42, 'method': 'dirrec'}, {'estimator': DecisionTreeRegressor(max_depth=3), 'lags': 42, 'method': None}, {'estimator': DecisionTreeRegressor(max_depth=3), 'lags': 42, 'method': 'recursive'}, {'estimator': DecisionTreeRegressor(max_depth=3), 'lags': 43, 'method': 'direct'}, {'estimator': DecisionTreeRegressor(max_depth=3), 'lags': 43, 'method': 'dirrec'}, {'estimator': DecisionTreeRegressor(max_depth=3), 'lags': 43, 'method': None}, {'estimator': DecisionTreeRegressor(max_depth=3), 'lags': 43, 'method': 'recursive'}, {'estimator': DecisionTreeRegressor(max_depth=3), 'lags': 44, 'method': 'direct'}, {'estimator': DecisionTreeRegressor(max_depth=3), 'lags': 44, 'method': 'dirrec'}, {'estimator': DecisionTreeRegressor(max_depth=3), 'lags': 44, 'method': None}, {'estimator': DecisionTreeRegressor(max_depth=3), 'lags': 44, 'method': 'recursive'}, {'estimator': DecisionTreeRegressor(max_depth=3), 'lags': 45, 'method': 'direct'}, {'estimator': DecisionTreeRegressor(max_depth=3), 'lags': 45, 'method': 'dirrec'}, {'estimator': DecisionTreeRegressor(max_depth=3), 'lags': 45, 'method': None}, {'estimator': DecisionTreeRegressor(max_depth=3), 'lags': 45, 'method': 'recursive'}, {'estimator': DecisionTreeRegressor(max_depth=3), 'lags': 46, 'method': 'direct'}, {'estimator': DecisionTreeRegressor(max_depth=3), 'lags': 46, 'method': 'dirrec'}, {'estimator': DecisionTreeRegressor(max_depth=3), 'lags': 46, 'method': None}, {'estimator': DecisionTreeRegressor(max_depth=3), 'lags': 46, 'method': 'recursive'}, {'estimator': DecisionTreeRegressor(max_depth=3), 'lags': 47, 'method': 'direct'}, {'estimator': DecisionTreeRegressor(max_depth=3), 'lags': 47, 'method': 'dirrec'}, {'estimator': DecisionTreeRegressor(max_depth=3), 'lags': 47, 'method': None}, {'estimator': DecisionTreeRegressor(max_depth=3), 'lags': 47, 'method': 'recursive'}, {'estimator': DecisionTreeRegressor(max_depth=3), 'lags': 48, 'method': 'direct'}, {'estimator': DecisionTreeRegressor(max_depth=3), 'lags': 48, 'method': 'dirrec'}, {'estimator': DecisionTreeRegressor(max_depth=3), 'lags': 48, 'method': None}, {'estimator': DecisionTreeRegressor(max_depth=3), 'lags': 48, 'method': 'recursive'}, {'estimator': DecisionTreeRegressor(max_depth=3), 'lags': 49, 'method': 'direct'}, {'estimator': DecisionTreeRegressor(max_depth=3), 'lags': 49, 'method': 'dirrec'}, {'estimator': DecisionTreeRegressor(max_depth=3), 'lags': 49, 'method': None}, {'estimator': DecisionTreeRegressor(max_depth=3), 'lags': 49, 'method': 'recursive'}, {'estimator': DecisionTreeRegressor(max_depth=3), 'lags': 50, 'method': 'direct'}, {'estimator': DecisionTreeRegressor(max_depth=3), 'lags': 50, 'method': 'dirrec'}, {'estimator': DecisionTreeRegressor(max_depth=3), 'lags': 50, 'method': None}, {'estimator': DecisionTreeRegressor(max_depth=3), 'lags': 50, 'method': 'recursive'}, {'estimator': DecisionTreeRegressor(max_depth=3), 'lags': 51, 'method': 'direct'}, {'estimator': DecisionTreeRegressor(max_depth=3), 'lags': 51, 'method': 'dirrec'}, {'estimator': DecisionTreeRegressor(max_depth=3), 'lags': 51, 'method': None}, {'estimator': DecisionTreeRegressor(max_depth=3), 'lags': 51, 'method': 'recursive'}, {'estimator': DecisionTreeRegressor(max_depth=3), 'lags': 52, 'method': 'direct'}, {'estimator': DecisionTreeRegressor(max_depth=3), 'lags': 52, 'method': 'dirrec'}, {'estimator': DecisionTreeRegressor(max_depth=3), 'lags': 52, 'method': None}, {'estimator': DecisionTreeRegressor(max_depth=3), 'lags': 52, 'method': 'recursive'}, {'estimator': DecisionTreeRegressor(max_depth=3), 'lags': 53, 'method': 'direct'}, {'estimator': DecisionTreeRegressor(max_depth=3), 'lags': 53, 'method': 'dirrec'}, {'estimator': DecisionTreeRegressor(max_depth=3), 'lags': 53, 'method': None}, {'estimator': DecisionTreeRegressor(max_depth=3), 'lags': 53, 'method': 'recursive'}, {'estimator': DecisionTreeRegressor(max_depth=3), 'lags': 54, 'method': 'direct'}, {'estimator': DecisionTreeRegressor(max_depth=3), 'lags': 54, 'method': 'dirrec'}, {'estimator': DecisionTreeRegressor(max_depth=3), 'lags': 54, 'method': None}, {'estimator': DecisionTreeRegressor(max_depth=3), 'lags': 54, 'method': 'recursive'}, {'estimator': DecisionTreeRegressor(max_depth=3), 'lags': 55, 'method': 'direct'}, {'estimator': DecisionTreeRegressor(max_depth=3), 'lags': 55, 'method': 'dirrec'}, {'estimator': DecisionTreeRegressor(max_depth=3), 'lags': 55, 'method': None}, {'estimator': DecisionTreeRegressor(max_depth=3), 'lags': 55, 'method': 'recursive'}, {'estimator': DecisionTreeRegressor(max_depth=3), 'lags': 56, 'method': 'direct'}, {'estimator': DecisionTreeRegressor(max_depth=3), 'lags': 56, 'method': 'dirrec'}, {'estimator': DecisionTreeRegressor(max_depth=3), 'lags': 56, 'method': None}, {'estimator': DecisionTreeRegressor(max_depth=3), 'lags': 56, 'method': 'recursive'}, {'estimator': DecisionTreeRegressor(max_depth=3), 'lags': 57, 'method': 'direct'}, {'estimator': DecisionTreeRegressor(max_depth=3), 'lags': 57, 'method': 'dirrec'}, {'estimator': DecisionTreeRegressor(max_depth=3), 'lags': 57, 'method': None}, {'estimator': DecisionTreeRegressor(max_depth=3), 'lags': 57, 'method': 'recursive'}, {'estimator': DecisionTreeRegressor(max_depth=3), 'lags': 58, 'method': 'direct'}, {'estimator': DecisionTreeRegressor(max_depth=3), 'lags': 58, 'method': 'dirrec'}, {'estimator': DecisionTreeRegressor(max_depth=3), 'lags': 58, 'method': None}, {'estimator': DecisionTreeRegressor(max_depth=3), 'lags': 58, 'method': 'recursive'}, {'estimator': DecisionTreeRegressor(max_depth=3), 'lags': 59, 'method': 'direct'}, {'estimator': DecisionTreeRegressor(max_depth=3), 'lags': 59, 'method': 'dirrec'}, {'estimator': DecisionTreeRegressor(max_depth=3), 'lags': 59, 'method': None}, {'estimator': DecisionTreeRegressor(max_depth=3), 'lags': 59, 'method': 'recursive'}, {'estimator': DecisionTreeRegressor(max_depth=3), 'lags': 60, 'method': 'direct'}, {'estimator': DecisionTreeRegressor(max_depth=3), 'lags': 60, 'method': 'dirrec'}, {'estimator': DecisionTreeRegressor(max_depth=3), 'lags': 60, 'method': None}, {'estimator': DecisionTreeRegressor(max_depth=3), 'lags': 60, 'method': 'recursive'}, {'estimator': DecisionTreeRegressor(max_depth=3), 'lags': 61, 'method': 'direct'}, {'estimator': DecisionTreeRegressor(max_depth=3), 'lags': 61, 'method': 'dirrec'}, {'estimator': DecisionTreeRegressor(max_depth=3), 'lags': 61, 'method': None}, {'estimator': DecisionTreeRegressor(max_depth=3), 'lags': 61, 'method': 'recursive'}, {'estimator': DecisionTreeRegressor(max_depth=3), 'lags': 62, 'method': 'direct'}, {'estimator': DecisionTreeRegressor(max_depth=3), 'lags': 62, 'method': 'dirrec'}, {'estimator': DecisionTreeRegressor(max_depth=3), 'lags': 62, 'method': None}, {'estimator': DecisionTreeRegressor(max_depth=3), 'lags': 62, 'method': 'recursive'}, {'estimator': DecisionTreeRegressor(max_depth=3), 'lags': 63, 'method': 'direct'}, {'estimator': DecisionTreeRegressor(max_depth=3), 'lags': 63, 'method': 'dirrec'}, {'estimator': DecisionTreeRegressor(max_depth=3), 'lags': 63, 'method': None}, {'estimator': DecisionTreeRegressor(max_depth=3), 'lags': 63, 'method': 'recursive'}, {'estimator': DecisionTreeRegressor(max_depth=3), 'lags': 64, 'method': 'direct'}, {'estimator': DecisionTreeRegressor(max_depth=3), 'lags': 64, 'method': 'dirrec'}, {'estimator': DecisionTreeRegressor(max_depth=3), 'lags': 64, 'method': None}, {'estimator': DecisionTreeRegressor(max_depth=3), 'lags': 64, 'method': 'recursive'}, {'estimator': DecisionTreeRegressor(max_depth=3), 'lags': 65, 'method': 'direct'}, {'estimator': DecisionTreeRegressor(max_depth=3), 'lags': 65, 'method': 'dirrec'}, {'estimator': DecisionTreeRegressor(max_depth=3), 'lags': 65, 'method': None}, {'estimator': DecisionTreeRegressor(max_depth=3), 'lags': 65, 'method': 'recursive'}, {'estimator': DecisionTreeRegressor(max_depth=3), 'lags': 66, 'method': 'direct'}, {'estimator': DecisionTreeRegressor(max_depth=3), 'lags': 66, 'method': 'dirrec'}, {'estimator': DecisionTreeRegressor(max_depth=3), 'lags': 66, 'method': None}, {'estimator': DecisionTreeRegressor(max_depth=3), 'lags': 66, 'method': 'recursive'}, {'estimator': DecisionTreeRegressor(max_depth=3), 'lags': 67, 'method': 'direct'}, {'estimator': DecisionTreeRegressor(max_depth=3), 'lags': 67, 'method': 'dirrec'}, {'estimator': DecisionTreeRegressor(max_depth=3), 'lags': 67, 'method': None}, {'estimator': DecisionTreeRegressor(max_depth=3), 'lags': 67, 'method': 'recursive'}, {'estimator': DecisionTreeRegressor(max_depth=3), 'lags': 68, 'method': 'direct'}, {'estimator': DecisionTreeRegressor(max_depth=3), 'lags': 68, 'method': 'dirrec'}, {'estimator': DecisionTreeRegressor(max_depth=3), 'lags': 68, 'method': None}, {'estimator': DecisionTreeRegressor(max_depth=3), 'lags': 68, 'method': 'recursive'}, {'estimator': DecisionTreeRegressor(max_depth=3), 'lags': 69, 'method': 'direct'}, {'estimator': DecisionTreeRegressor(max_depth=3), 'lags': 69, 'method': 'dirrec'}, {'estimator': DecisionTreeRegressor(max_depth=3), 'lags': 69, 'method': None}, {'estimator': DecisionTreeRegressor(max_depth=3), 'lags': 69, 'method': 'recursive'}, {'estimator': DecisionTreeRegressor(max_depth=3), 'lags': 70, 'method': 'direct'}, {'estimator': DecisionTreeRegressor(max_depth=3), 'lags': 70, 'method': 'dirrec'}, {'estimator': DecisionTreeRegressor(max_depth=3), 'lags': 70, 'method': None}, {'estimator': DecisionTreeRegressor(max_depth=3), 'lags': 70, 'method': 'recursive'}, {'estimator': DecisionTreeRegressor(max_depth=3), 'lags': 71, 'method': 'direct'}, {'estimator': DecisionTreeRegressor(max_depth=3), 'lags': 71, 'method': 'dirrec'}, {'estimator': DecisionTreeRegressor(max_depth=3), 'lags': 71, 'method': None}, {'estimator': DecisionTreeRegressor(max_depth=3), 'lags': 71, 'method': 'recursive'}, {'estimator': DecisionTreeRegressor(max_depth=3), 'lags': 72, 'method': 'direct'}, {'estimator': DecisionTreeRegressor(max_depth=3), 'lags': 72, 'method': 'dirrec'}, {'estimator': DecisionTreeRegressor(max_depth=3), 'lags': 72, 'method': None}, {'estimator': DecisionTreeRegressor(max_depth=3), 'lags': 72, 'method': 'recursive'}, {'estimator': DecisionTreeRegressor(max_depth=3), 'lags': 73, 'method': 'direct'}, {'estimator': DecisionTreeRegressor(max_depth=3), 'lags': 73, 'method': 'dirrec'}, {'estimator': DecisionTreeRegressor(max_depth=3), 'lags': 73, 'method': None}, {'estimator': DecisionTreeRegressor(max_depth=3), 'lags': 73, 'method': 'recursive'}, {'estimator': DecisionTreeRegressor(max_depth=3), 'lags': 74, 'method': 'direct'}, {'estimator': DecisionTreeRegressor(max_depth=3), 'lags': 74, 'method': 'dirrec'}, {'estimator': DecisionTreeRegressor(max_depth=3), 'lags': 74, 'method': None}, {'estimator': DecisionTreeRegressor(max_depth=3), 'lags': 74, 'method': 'recursive'}, {'estimator': DecisionTreeRegressor(max_depth=3), 'lags': 75, 'method': 'direct'}, {'estimator': DecisionTreeRegressor(max_depth=3), 'lags': 75, 'method': 'dirrec'}, {'estimator': DecisionTreeRegressor(max_depth=3), 'lags': 75, 'method': None}, {'estimator': DecisionTreeRegressor(max_depth=3), 'lags': 75, 'method': 'recursive'}, {'estimator': DecisionTreeRegressor(max_depth=3), 'lags': 76, 'method': 'direct'}, {'estimator': DecisionTreeRegressor(max_depth=3), 'lags': 76, 'method': 'dirrec'}, {'estimator': DecisionTreeRegressor(max_depth=3), 'lags': 76, 'method': None}, {'estimator': DecisionTreeRegressor(max_depth=3), 'lags': 76, 'method': 'recursive'}, {'estimator': DecisionTreeRegressor(max_depth=3), 'lags': 77, 'method': 'direct'}, {'estimator': DecisionTreeRegressor(max_depth=3), 'lags': 77, 'method': 'dirrec'}, {'estimator': DecisionTreeRegressor(max_depth=3), 'lags': 77, 'method': None}, {'estimator': DecisionTreeRegressor(max_depth=3), 'lags': 77, 'method': 'recursive'}, {'estimator': DecisionTreeRegressor(max_depth=3), 'lags': 78, 'method': 'direct'}, {'estimator': DecisionTreeRegressor(max_depth=3), 'lags': 78, 'method': 'dirrec'}, {'estimator': DecisionTreeRegressor(max_depth=3), 'lags': 78, 'method': None}, {'estimator': DecisionTreeRegressor(max_depth=3), 'lags': 78, 'method': 'recursive'}, {'estimator': DecisionTreeRegressor(max_depth=3), 'lags': 79, 'method': 'direct'}, {'estimator': DecisionTreeRegressor(max_depth=3), 'lags': 79, 'method': 'dirrec'}, {'estimator': DecisionTreeRegressor(max_depth=3), 'lags': 79, 'method': None}, {'estimator': DecisionTreeRegressor(max_depth=3), 'lags': 79, 'method': 'recursive'}, {'estimator': DecisionTreeRegressor(max_depth=3), 'lags': 80, 'method': 'direct'}, {'estimator': DecisionTreeRegressor(max_depth=3), 'lags': 80, 'method': 'dirrec'}, {'estimator': DecisionTreeRegressor(max_depth=3), 'lags': 80, 'method': None}, {'estimator': DecisionTreeRegressor(max_depth=3), 'lags': 80, 'method': 'recursive'}, {'estimator': DecisionTreeRegressor(max_depth=3), 'lags': 81, 'method': 'direct'}, {'estimator': DecisionTreeRegressor(max_depth=3), 'lags': 81, 'method': 'dirrec'}, {'estimator': DecisionTreeRegressor(max_depth=3), 'lags': 81, 'method': None}, {'estimator': DecisionTreeRegressor(max_depth=3), 'lags': 81, 'method': 'recursive'}, {'estimator': DecisionTreeRegressor(max_depth=3), 'lags': 82, 'method': 'direct'}, {'estimator': DecisionTreeRegressor(max_depth=3), 'lags': 82, 'method': 'dirrec'}, {'estimator': DecisionTreeRegressor(max_depth=3), 'lags': 82, 'method': None}, {'estimator': DecisionTreeRegressor(max_depth=3), 'lags': 82, 'method': 'recursive'}, {'estimator': DecisionTreeRegressor(max_depth=3), 'lags': 83, 'method': 'direct'}, {'estimator': DecisionTreeRegressor(max_depth=3), 'lags': 83, 'method': 'dirrec'}, {'estimator': DecisionTreeRegressor(max_depth=3), 'lags': 83, 'method': None}, {'estimator': DecisionTreeRegressor(max_depth=3), 'lags': 83, 'method': 'recursive'}, {'estimator': DecisionTreeRegressor(max_depth=3), 'lags': 84, 'method': 'direct'}, {'estimator': DecisionTreeRegressor(max_depth=3), 'lags': 84, 'method': 'dirrec'}, {'estimator': DecisionTreeRegressor(max_depth=3), 'lags': 84, 'method': None}, {'estimator': DecisionTreeRegressor(max_depth=3), 'lags': 84, 'method': 'recursive'}, {'estimator': DecisionTreeRegressor(max_depth=3), 'lags': 85, 'method': 'direct'}, {'estimator': DecisionTreeRegressor(max_depth=3), 'lags': 85, 'method': 'dirrec'}, {'estimator': DecisionTreeRegressor(max_depth=3), 'lags': 85, 'method': None}, {'estimator': DecisionTreeRegressor(max_depth=3), 'lags': 85, 'method': 'recursive'}, {'estimator': DecisionTreeRegressor(max_depth=3), 'lags': 86, 'method': 'direct'}, {'estimator': DecisionTreeRegressor(max_depth=3), 'lags': 86, 'method': 'dirrec'}, {'estimator': DecisionTreeRegressor(max_depth=3), 'lags': 86, 'method': None}, {'estimator': DecisionTreeRegressor(max_depth=3), 'lags': 86, 'method': 'recursive'}, {'estimator': DecisionTreeRegressor(max_depth=3), 'lags': 87, 'method': 'direct'}, {'estimator': DecisionTreeRegressor(max_depth=3), 'lags': 87, 'method': 'dirrec'}, {'estimator': DecisionTreeRegressor(max_depth=3), 'lags': 87, 'method': None}, {'estimator': DecisionTreeRegressor(max_depth=3), 'lags': 87, 'method': 'recursive'}, {'estimator': DecisionTreeRegressor(max_depth=3), 'lags': 88, 'method': 'direct'}, {'estimator': DecisionTreeRegressor(max_depth=3), 'lags': 88, 'method': 'dirrec'}, {'estimator': DecisionTreeRegressor(max_depth=3), 'lags': 88, 'method': None}, {'estimator': DecisionTreeRegressor(max_depth=3), 'lags': 88, 'method': 'recursive'}, {'estimator': DecisionTreeRegressor(max_depth=3), 'lags': 89, 'method': 'direct'}, {'estimator': DecisionTreeRegressor(max_depth=3), 'lags': 89, 'method': 'dirrec'}, {'estimator': DecisionTreeRegressor(max_depth=3), 'lags': 89, 'method': None}, {'estimator': DecisionTreeRegressor(max_depth=3), 'lags': 89, 'method': 'recursive'}, {'estimator': DecisionTreeRegressor(max_depth=3), 'lags': 90, 'method': 'direct'}, {'estimator': DecisionTreeRegressor(max_depth=3), 'lags': 90, 'method': 'dirrec'}, {'estimator': DecisionTreeRegressor(max_depth=3), 'lags': 90, 'method': None}, {'estimator': DecisionTreeRegressor(max_depth=3), 'lags': 90, 'method': 'recursive'}, {'estimator': DecisionTreeRegressor(max_depth=3), 'lags': 91, 'method': 'direct'}, {'estimator': DecisionTreeRegressor(max_depth=3), 'lags': 91, 'method': 'dirrec'}, {'estimator': DecisionTreeRegressor(max_depth=3), 'lags': 91, 'method': None}, {'estimator': DecisionTreeRegressor(max_depth=3), 'lags': 91, 'method': 'recursive'}, {'estimator': DecisionTreeRegressor(max_depth=3), 'lags': 92, 'method': 'direct'}, {'estimator': DecisionTreeRegressor(max_depth=3), 'lags': 92, 'method': 'dirrec'}, {'estimator': DecisionTreeRegressor(max_depth=3), 'lags': 92, 'method': None}, {'estimator': DecisionTreeRegressor(max_depth=3), 'lags': 92, 'method': 'recursive'}, {'estimator': DecisionTreeRegressor(max_depth=3), 'lags': 93, 'method': 'direct'}, {'estimator': DecisionTreeRegressor(max_depth=3), 'lags': 93, 'method': 'dirrec'}, {'estimator': DecisionTreeRegressor(max_depth=3), 'lags': 93, 'method': None}, {'estimator': DecisionTreeRegressor(max_depth=3), 'lags': 93, 'method': 'recursive'}, {'estimator': DecisionTreeRegressor(max_depth=3), 'lags': 94, 'method': 'direct'}, {'estimator': DecisionTreeRegressor(max_depth=3), 'lags': 94, 'method': 'dirrec'}, {'estimator': DecisionTreeRegressor(max_depth=3), 'lags': 94, 'method': None}, {'estimator': DecisionTreeRegressor(max_depth=3), 'lags': 94, 'method': 'recursive'}, {'estimator': DecisionTreeRegressor(max_depth=3), 'lags': 95, 'method': 'direct'}, {'estimator': DecisionTreeRegressor(max_depth=3), 'lags': 95, 'method': 'dirrec'}, {'estimator': DecisionTreeRegressor(max_depth=3), 'lags': 95, 'method': None}, {'estimator': DecisionTreeRegressor(max_depth=3), 'lags': 95, 'method': 'recursive'}, {'estimator': DecisionTreeRegressor(max_depth=3), 'lags': 96, 'method': 'direct'}, {'estimator': DecisionTreeRegressor(max_depth=3), 'lags': 96, 'method': 'dirrec'}, {'estimator': DecisionTreeRegressor(max_depth=3), 'lags': 96, 'method': None}, {'estimator': DecisionTreeRegressor(max_depth=3), 'lags': 96, 'method': 'recursive'}, {'estimator': DecisionTreeRegressor(max_depth=3), 'lags': 97, 'method': 'direct'}, {'estimator': DecisionTreeRegressor(max_depth=3), 'lags': 97, 'method': 'dirrec'}, {'estimator': DecisionTreeRegressor(max_depth=3), 'lags': 97, 'method': None}, {'estimator': DecisionTreeRegressor(max_depth=3), 'lags': 97, 'method': 'recursive'}, {'estimator': DecisionTreeRegressor(max_depth=3), 'lags': 98, 'method': 'direct'}, {'estimator': DecisionTreeRegressor(max_depth=3), 'lags': 98, 'method': 'dirrec'}, {'estimator': DecisionTreeRegressor(max_depth=3), 'lags': 98, 'method': None}, {'estimator': DecisionTreeRegressor(max_depth=3), 'lags': 98, 'method': 'recursive'}, {'estimator': DecisionTreeRegressor(max_depth=3), 'lags': 99, 'method': 'direct'}, {'estimator': DecisionTreeRegressor(max_depth=3), 'lags': 99, 'method': 'dirrec'}, {'estimator': DecisionTreeRegressor(max_depth=3), 'lags': 99, 'method': None}, {'estimator': DecisionTreeRegressor(max_depth=3), 'lags': 99, 'method': 'recursive'}]\n"
          ]
        }
      ]
    },
    {
      "cell_type": "code",
      "source": [
        "hp = list(ParameterGrid(grid))\n",
        "scores = []\n",
        "for p in tqdm(hp) :\n",
        "    #print(p)\n",
        "    yhat = AutoReg(\n",
        "        train, len(val), lags = p['lags'], estimator = p['estimator'], method = p['method']\n",
        "    )\n",
        "    yhat = pd.Series(\n",
        "        yhat, index = val.index\n",
        "    )\n",
        "    score = mean_absolute_error(val, yhat)\n",
        "    scores.append(score)\n",
        "    #print(score)\n",
        "    #val.plot.line(color = 'blue')\n",
        "    #yhat.plot.line(color = 'red')\n",
        "    #plt.show()\n",
        "    #print('')\n",
        "print('Best Param Grid :', hp[np.argmin(scores)], 'with score of', scores[np.argmin(scores)])"
      ],
      "metadata": {
        "colab": {
          "base_uri": "https://localhost:8080/",
          "height": 49,
          "referenced_widgets": [
            "7ec1efb8a6874a429790a2feb7b32eba",
            "4c4db2b1bbb642008ffe6158e3531380",
            "67988d3910084fe3be9ffa3d33f11273",
            "8da4c95c765e40faa1768bfb8fe3f6f6",
            "f0e1127b72504b76ad4fbacc88e05731",
            "3fa2d9743a5648f3946ce858cc288e5c",
            "064d59ee806c4bbea8aca31374f7990f",
            "3ae1290631c94f1f84f675bf0657f0f7",
            "ef79d9000d8542bf9adf548bcd7b085a",
            "9c343a4e28ec46628e32868942359410",
            "87d95fb3909d4a6eb92089ed81428822"
          ]
        },
        "id": "Z7o05E4NnrC3",
        "outputId": "6e9ce088-3a5a-46aa-98fd-0adbdcde4b8e"
      },
      "execution_count": null,
      "outputs": [
        {
          "output_type": "display_data",
          "data": {
            "application/vnd.jupyter.widget-view+json": {
              "model_id": "7ec1efb8a6874a429790a2feb7b32eba",
              "version_minor": 0,
              "version_major": 2
            },
            "text/plain": [
              "  0%|          | 0/792 [00:00<?, ?it/s]"
            ]
          },
          "metadata": {}
        }
      ]
    },
    {
      "cell_type": "code",
      "source": [
        "x = make_lags(data, 2).dropna()\n",
        "y = make_steps(data, 3).dropna()\n",
        "y, x = y.align(x, join = 'inner', axis = 0)\n",
        "model = MultiOutputRegressor(LinearRegression()).fit(x, y)"
      ],
      "metadata": {
        "id": "zSkNVMvX-F3v"
      },
      "execution_count": null,
      "outputs": []
    },
    {
      "cell_type": "code",
      "source": [
        "print(yhat)"
      ],
      "metadata": {
        "id": "43XoO7uy2iLe"
      },
      "execution_count": null,
      "outputs": []
    },
    {
      "cell_type": "code",
      "source": [
        "data"
      ],
      "metadata": {
        "id": "5niZheBT4Bww"
      },
      "execution_count": null,
      "outputs": []
    }
  ]
}